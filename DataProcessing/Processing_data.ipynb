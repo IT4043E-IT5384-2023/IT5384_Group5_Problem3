{
 "cells": [
  {
   "cell_type": "code",
   "execution_count": 2,
   "metadata": {},
   "outputs": [
    {
     "data": {
      "text/plain": [
       "'c:\\\\Users\\\\Admin\\\\Desktop\\\\2023.1\\\\BigData\\\\btl\\\\IT5384_Group5_Problem3\\\\DataProcessing'"
      ]
     },
     "execution_count": 2,
     "metadata": {},
     "output_type": "execute_result"
    }
   ],
   "source": [
    "# Hiển thị đường dẫn hiện tại\n",
    "%pwd\n"
   ]
  },
  {
   "cell_type": "code",
   "execution_count": 1,
   "metadata": {},
   "outputs": [
    {
     "name": "stdout",
     "output_type": "stream",
     "text": [
      "Requirement already satisfied: pyspark in c:\\users\\admin\\appdata\\local\\programs\\python\\python312\\lib\\site-packages (3.5.0)\n",
      "Requirement already satisfied: py4j==0.10.9.7 in c:\\users\\admin\\appdata\\local\\programs\\python\\python312\\lib\\site-packages (from pyspark) (0.10.9.7)\n"
     ]
    },
    {
     "name": "stderr",
     "output_type": "stream",
     "text": [
      "\n",
      "[notice] A new release of pip is available: 23.3.1 -> 23.3.2\n",
      "[notice] To update, run: python.exe -m pip install --upgrade pip\n"
     ]
    }
   ],
   "source": [
    "!pip install pyspark"
   ]
  },
  {
   "cell_type": "code",
   "execution_count": 2,
   "metadata": {},
   "outputs": [],
   "source": [
    "from pyspark.sql import SparkSession\n",
    "from pyspark.sql.types import StructType, StructField, StringType, IntegerType\n",
    "#config the connector jar file"
   ]
  },
  {
   "cell_type": "code",
   "execution_count": 8,
   "metadata": {},
   "outputs": [
    {
     "ename": "SyntaxError",
     "evalue": "invalid syntax. Perhaps you forgot a comma? (231294422.py, line 1)",
     "output_type": "error",
     "traceback": [
      "\u001b[1;36m  Cell \u001b[1;32mIn[8], line 1\u001b[1;36m\u001b[0m\n\u001b[1;33m    spark = (SparkSession.builder.appName(\"Process_data\").master(\"spark://34.142.194.212:7077\")\u001b[0m\n\u001b[1;37m             ^\u001b[0m\n\u001b[1;31mSyntaxError\u001b[0m\u001b[1;31m:\u001b[0m invalid syntax. Perhaps you forgot a comma?\n"
     ]
    }
   ],
   "source": [
    "\n",
    "spark = (SparkSession.builder.appName(\"SimpleSparkJob\").master(\"spark://34.142.194.212:7077\")\n",
    "         .config(\"spark.jars\", \"C:\\\\GG_storage\\\\gcs-connector-latest-hadoop2.jar\")\n",
    "         .config(\"spark.executor.memory\", \"1G\")  #excutor excute only 2G\n",
    "        .config(\"spark.driver.memory\",\"1G\") \n",
    "        .config(\"spark.executor.cores\",\"1\") #Cluster use only 3 cores to excute as it has 3 server\n",
    "        .config(\"spark.python.worker.memory\",\"1G\") # each worker use 1G to excute\n",
    "        .config(\"spark.driver.maxResultSize\",\"1G\") #Maximum size of result is 3G\n",
    "        .config(\"spark.kryoserializer.buffer.max\",\"1024M\")\n",
    "         .getOrCreate())\n",
    "\n",
    "#config the credential to identify the google cloud hadoop file \n",
    "spark.conf.set(\"google.cloud.auth.service.account.json.keyfile\",\"C:\\\\GG_storage\\\\lucky-wall-393304-2a6a3df38253.json\")\n",
    "spark._jsc.hadoopConfiguration().set('fs.gs.impl', 'com.google.cloud.hadoop.fs.gcs.GoogleHadoopFileSystem')\n",
    "spark._jsc.hadoopConfiguration().set('fs.gs.auth.service.account.enable', 'true')"
   ]
  },
  {
   "cell_type": "code",
   "execution_count": null,
   "metadata": {},
   "outputs": [],
   "source": [
    "spark"
   ]
  },
  {
   "cell_type": "code",
   "execution_count": null,
   "metadata": {},
   "outputs": [],
   "source": [
    "tweets_path1 = \"gs://it4043e-it5384/it5384/IT5384_Group5_Problem3/data_it5384_group5_problem3/data1.json\"\n",
    "tweets_path2 = \"gs://it4043e-it5384/it5384/IT5384_Group5_Problem3/data_it5384_group5_problem3/data2.json\"\n",
    "# path to GG-cloud"
   ]
  },
  {
   "cell_type": "code",
   "execution_count": null,
   "metadata": {},
   "outputs": [],
   "source": [
    "tweets_df1 = spark.read.option(\"multiline\", \"true\").json(tweets_path1)\n",
    "tweets_df2 = spark.read.option(\"multiline\", \"true\").json(tweets_path1)\n"
   ]
  },
  {
   "cell_type": "code",
   "execution_count": null,
   "metadata": {},
   "outputs": [],
   "source": [
    "back_up = tweets_df1\n",
    "\n",
    "# Get the number of rows\n",
    "num_rows = tweets_df1.count()\n",
    "\n",
    "# Get the number of columns\n",
    "num_columns = len(tweets_df1.columns)\n",
    "\n",
    "# Print the shape of the DataFrame\n",
    "print(f\"Shape of the DataFrame: ({num_rows}, {num_columns})\")\n",
    "\n",
    "\n",
    "#get count columns null in data.json\n",
    "for column in tweets_df1.columns:\n",
    "    null_count = tweets_df1.filter(col(column).isNull()).count()\n",
    "    print(f\"NULL in {column}: {null_count}\")"
   ]
  },
  {
   "cell_type": "markdown",
   "metadata": {},
   "source": [
    "# Clean data"
   ]
  },
  {
   "cell_type": "code",
   "execution_count": null,
   "metadata": {},
   "outputs": [],
   "source": [
    "replacement_value = 0  \n",
    "\n",
    "columns_to_replace = [\"Views\", \"Likes\", \"Reposts\", \"Replies\"]\n",
    "\n",
    "for column in columns_to_replace:\n",
    "    tweets_df1 = tweets_df1.withColumn(column, when(tweets_df1[column].isNull(), replacement_value).otherwise(tweets_df1[column]))\n",
    "\n",
    "replacement_value_user = \"no\"\n",
    "\n",
    "for column in columns_to_replace:\n",
    "    tweets_df1 = tweets_df1.withColumn(column, when(tweets_df1[column].isNull(), replacement_value_user).otherwise(tweets_df1[column]))\n",
    "\n",
    "for column in tweets_df1.columns:\n",
    "    null_count = tweets_df1.filter(col(column).isNull()).count()\n",
    "    print(f\"Null values in {column}: {null_count}\")\n",
    "\n",
    "#delete duplicate\n",
    "\n",
    "df_no_duplicates = tweets_df1.dropDuplicates()\n",
    "\n",
    "\n",
    "# Get the number of rows\n",
    "num_rows = tweets_df1.count()\n",
    "\n",
    "# Get the number of columns\n",
    "num_columns = len(tweets_df1.columns)\n",
    "\n",
    "# Print the shape of the DataFrame\n",
    "print(f\"Shape of the DataFrame: ({num_rows}, {num_columns})\")\n",
    "\n"
   ]
  },
  {
   "cell_type": "markdown",
   "metadata": {},
   "source": [
    "# storage"
   ]
  },
  {
   "cell_type": "code",
   "execution_count": null,
   "metadata": {},
   "outputs": [],
   "source": [
    "output_directory = \"gs://it4043e-it5384/it5384/IT5384_Group5_Problem3/data_it5384_group5_problem3\"\n",
    "tweets_df1_final: tweets_df1.DataFrame = tweets_df1.toPandas()\n",
    "tweets_df1_final.to_json(output_directory + \"data1.json\", orient=\"records\", lines=True)\n",
    "tweets_df1_final.write.parquet(\"gs://it4043e-it5384/it5384/IT5384_Group5_Problem3/data_it5384_group5_problem3/data1.json\", mode=\"overwrite\")\n"
   ]
  },
  {
   "cell_type": "code",
   "execution_count": null,
   "metadata": {},
   "outputs": [],
   "source": [
    "import json\n",
    "\n",
    "def read_json_file(file_path):\n",
    "    try:\n",
    "        with open(file_path, 'r') as file:\n",
    "            data = json.load(file)\n",
    "            return data\n",
    "    except Exception as e:\n",
    "        print(f\"Error reading JSON file: {str(e)}\")\n",
    "        return None\n",
    "\n",
    "# Đường dẫn tới file JSON\n",
    "json_file_path = \"path/to/your/file.json\"\n",
    "\n",
    "# Gọi hàm để đọc file JSON\n",
    "json_data = read_json_file(json_file_path)\n",
    "\n",
    "# Kiểm tra dữ liệu đã đọc\n",
    "if json_data:\n",
    "    print(json_data)\n",
    "else:\n",
    "    print(\"Failed to read JSON file.\")\n"
   ]
  }
 ],
 "metadata": {
  "kernelspec": {
   "display_name": "Python 3",
   "language": "python",
   "name": "python3"
  },
  "language_info": {
   "codemirror_mode": {
    "name": "ipython",
    "version": 3
   },
   "file_extension": ".py",
   "mimetype": "text/x-python",
   "name": "python",
   "nbconvert_exporter": "python",
   "pygments_lexer": "ipython3",
   "version": "3.12.0"
  }
 },
 "nbformat": 4,
 "nbformat_minor": 2
}
