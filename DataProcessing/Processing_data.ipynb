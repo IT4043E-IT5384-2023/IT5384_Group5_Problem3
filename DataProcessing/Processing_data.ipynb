{
 "cells": [
  {
   "cell_type": "code",
   "execution_count": 29,
   "metadata": {},
   "outputs": [
    {
     "data": {
      "text/plain": [
       "'c:\\\\Users\\\\Admin\\\\Desktop\\\\2023.1\\\\BigData\\\\btl\\\\IT5384_Group5_Problem3\\\\DataProcessing'"
      ]
     },
     "execution_count": 29,
     "metadata": {},
     "output_type": "execute_result"
    }
   ],
   "source": [
    "# Hiển thị đường dẫn hiện tại\n",
    "%pwd\n"
   ]
  },
  {
   "cell_type": "code",
   "execution_count": null,
   "metadata": {},
   "outputs": [],
   "source": [
    "!pip install pyspark"
   ]
  },
  {
   "cell_type": "code",
   "execution_count": 30,
   "metadata": {},
   "outputs": [],
   "source": [
    "from pyspark.sql import SparkSession\n",
    "from pyspark.sql import functions as F\n",
    "from pyspark.sql.functions import countDistinct, col, when\n",
    "from pyspark.sql.window import Window"
   ]
  },
  {
   "cell_type": "code",
   "execution_count": null,
   "metadata": {},
   "outputs": [],
   "source": [
    "spark = (SparkSession.builder.appName(\"Process_data\").master(\"spark://34.142.194.212:7077\")\n",
    "            .config(\"spark.jars\", \"gcs-connector-latest-hadoop2.jar\")\n",
    "            .config(\"spark.executor.memory\", \"2G\")  #excutor excute only 2G\n",
    "            .config(\"spark.driver.memory\",\"4G\") \n",
    "            .config(\"spark.executor.cores\",\"3\") #Cluster use only 3 cores to excute\n",
    "            .config(\"spark.python.worker.memory\",\"2G\") # each worker use 1G to excute\n",
    "            .config(\"spark.driver.maxResultSize\",\"3G\") #Maximum size of result is 3G\n",
    "            .config(\"spark.kryoserializer.buffer.max\",\"1024M\")\n",
    "            .getOrCreate())\n",
    "\n",
    "spark.conf.set(\"google.cloud.auth.service.account.json.keyfile\", \"lucky-wall-393304-2a6a3df38253.json\")\n",
    "spark._jsc.hadoopConfiguration().set('fs.gs.impl', 'com.google.cloud.hadoop.fs.gcs.GoogleHadoopFileSystem')\n",
    "spark._jsc.hadoopConfiguration().set('fs.gs.auth.service.account.enable', 'true')"
   ]
  },
  {
   "cell_type": "code",
   "execution_count": null,
   "metadata": {},
   "outputs": [],
   "source": [
    "spark"
   ]
  },
  {
   "cell_type": "code",
   "execution_count": null,
   "metadata": {},
   "outputs": [],
   "source": [
    "tweets_path = \"gs://it4043e-it5384/it4043e/it4043e-group27-problem1/all_tweets_normalised.json\"\n",
    "users_path = \"gs://it4043e-it5384/it4043e/it4043e-group27-problem1/all_users.json\"\n",
    "connections_path = \"gs://it4043e-it5384/it4043e/it4043e-group27-problem1/connections.json\""
   ]
  },
  {
   "cell_type": "code",
   "execution_count": null,
   "metadata": {},
   "outputs": [],
   "source": [
    "tweets_path1 = \"gs://it4043e-it5384/it5384/IT5384_Group5_Problem3/data_it5384_group5_problem3/data1.json\"\n",
    "tweets_path2 = \"gs://it4043e-it5384/it5384/IT5384_Group5_Problem3/data_it5384_group5_problem3/data2.json\"\n",
    "# path to GG-cloud"
   ]
  },
  {
   "cell_type": "code",
   "execution_count": null,
   "metadata": {},
   "outputs": [],
   "source": [
    "tweets_df1 = spark.read.option(\"multiline\", \"true\").json(tweets_path1)\n",
    "tweets_df2 = spark.read.option(\"multiline\", \"true\").json(tweets_path1)\n"
   ]
  },
  {
   "cell_type": "code",
   "execution_count": null,
   "metadata": {},
   "outputs": [],
   "source": [
    "back_up = tweets_df1\n",
    "\n",
    "# Get the number of rows\n",
    "num_rows = tweets_df1.count()\n",
    "\n",
    "# Get the number of columns\n",
    "num_columns = len(tweets_df1.columns)\n",
    "\n",
    "# Print the shape of the DataFrame\n",
    "print(f\"Shape of the DataFrame: ({num_rows}, {num_columns})\")\n",
    "\n",
    "\n",
    "#get count columns null in data.json\n",
    "for column in tweets_df1.columns:\n",
    "    null_count = tweets_df1.filter(col(column).isNull()).count()\n",
    "    print(f\"NULL in {column}: {null_count}\")"
   ]
  },
  {
   "cell_type": "markdown",
   "metadata": {},
   "source": [
    "# Clean data"
   ]
  },
  {
   "cell_type": "code",
   "execution_count": null,
   "metadata": {},
   "outputs": [],
   "source": [
    "replacement_value = 0  \n",
    "\n",
    "columns_to_replace = [\"Views\", \"Likes\", \"Reposts\", \"Replies\"]\n",
    "\n",
    "for column in columns_to_replace:\n",
    "    tweets_df1 = tweets_df1.withColumn(column, when(tweets_df1[column].isNull(), replacement_value).otherwise(tweets_df1[column]))\n",
    "\n",
    "replacement_value_user = \"no\"\n",
    "\n",
    "for column in columns_to_replace:\n",
    "    tweets_df1 = tweets_df1.withColumn(column, when(tweets_df1[column].isNull(), replacement_value_user).otherwise(tweets_df1[column]))\n",
    "\n",
    "for column in tweets_df1.columns:\n",
    "    null_count = tweets_df1.filter(col(column).isNull()).count()\n",
    "    print(f\"Null values in {column}: {null_count}\")\n",
    "\n",
    "#delete duplicate\n",
    "\n",
    "df_no_duplicates = tweets_df1.dropDuplicates()\n",
    "\n",
    "\n",
    "# Get the number of rows\n",
    "num_rows = tweets_df1.count()\n",
    "\n",
    "# Get the number of columns\n",
    "num_columns = len(tweets_df1.columns)\n",
    "\n",
    "# Print the shape of the DataFrame\n",
    "print(f\"Shape of the DataFrame: ({num_rows}, {num_columns})\")\n",
    "\n"
   ]
  },
  {
   "cell_type": "markdown",
   "metadata": {},
   "source": [
    "#storage"
   ]
  },
  {
   "cell_type": "code",
   "execution_count": null,
   "metadata": {},
   "outputs": [],
   "source": [
    "output_directory = \"gs://it4043e-it5384/it5384/IT5384_Group5_Problem3/data_it5384_group5_problem3\"\n",
    "tweets_df1_final: tweets_df1.DataFrame = tweets_df1.toPandas()\n",
    "tweets_df1_final.to_json(output_directory + \"data1.json\", orient=\"records\", lines=True)\n",
    "tweets_df1_final.write.parquet(\"gs://it4043e-it5384/it5384/IT5384_Group5_Problem3/data_it5384_group5_problem3/data1.json\", mode=\"overwrite\")\n"
   ]
  }
 ],
 "metadata": {
  "kernelspec": {
   "display_name": "Python 3",
   "language": "python",
   "name": "python3"
  },
  "language_info": {
   "codemirror_mode": {
    "name": "ipython",
    "version": 3
   },
   "file_extension": ".py",
   "mimetype": "text/x-python",
   "name": "python",
   "nbconvert_exporter": "python",
   "pygments_lexer": "ipython3",
   "version": "3.12.0"
  }
 },
 "nbformat": 4,
 "nbformat_minor": 2
}
